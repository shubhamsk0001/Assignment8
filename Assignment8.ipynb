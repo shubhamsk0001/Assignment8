{
 "cells": [
  {
   "cell_type": "code",
   "execution_count": null,
   "id": "c09a91fb",
   "metadata": {},
   "outputs": [],
   "source": [
    "1. Is the Python Standard Library included with PyInputPlus?"
   ]
  },
  {
   "cell_type": "code",
   "execution_count": null,
   "id": "c400a3bd",
   "metadata": {},
   "outputs": [],
   "source": [
    "PyInputPlus is not a part of the Python Standard Library, we must install it separately using Pip."
   ]
  },
  {
   "cell_type": "code",
   "execution_count": null,
   "id": "fb89831a",
   "metadata": {},
   "outputs": [],
   "source": [
    "2. Why is PyInputPlus commonly imported with import pyinputplus as pypi?"
   ]
  },
  {
   "cell_type": "code",
   "execution_count": null,
   "id": "e1a03f7f",
   "metadata": {},
   "outputs": [],
   "source": [
    "You can import the module with import pyinputplus as pyip so that you can enter a shorter name while calling \n",
    "the module’s functions."
   ]
  },
  {
   "cell_type": "code",
   "execution_count": null,
   "id": "85f49a5a",
   "metadata": {},
   "outputs": [],
   "source": [
    "3. How do you distinguish between inputInt() and inputFloat()?"
   ]
  },
  {
   "cell_type": "code",
   "execution_count": null,
   "id": "f46c73ff",
   "metadata": {},
   "outputs": [],
   "source": [
    " The difference is in the data-type when you use inputInt() in the program,It expects an integer value as input\n",
    "while\n",
    "in inputFloat(),It expects a float value i.e number containing a decimal."
   ]
  },
  {
   "cell_type": "code",
   "execution_count": null,
   "id": "81e90ebb",
   "metadata": {},
   "outputs": [],
   "source": [
    "4. Using PyInputPlus, how do you ensure that the user enters a whole number between 0 and 99?"
   ]
  },
  {
   "cell_type": "code",
   "execution_count": null,
   "id": "0d9a2a3e",
   "metadata": {},
   "outputs": [],
   "source": [
    "By using pyip.inputint(min=0, max=99)"
   ]
  },
  {
   "cell_type": "code",
   "execution_count": null,
   "id": "69aded3e",
   "metadata": {},
   "outputs": [],
   "source": [
    "5. What is transferred to the keyword arguments allowRegexes and blockRegexes?"
   ]
  },
  {
   "cell_type": "code",
   "execution_count": null,
   "id": "50535ace",
   "metadata": {},
   "outputs": [],
   "source": [
    "A list of regex strings that are either explicitly allowed or denied is  transferred as the keyword arguments in \n",
    "allowRegexes and blockRegexes respectively."
   ]
  },
  {
   "cell_type": "code",
   "execution_count": null,
   "id": "987325e2",
   "metadata": {},
   "outputs": [],
   "source": [
    "6. If a blank input is entered three times, what does inputStr(limit=3) do?"
   ]
  },
  {
   "cell_type": "code",
   "execution_count": null,
   "id": "0701760a",
   "metadata": {},
   "outputs": [],
   "source": [
    "The function will raise RetryLimitException."
   ]
  },
  {
   "cell_type": "code",
   "execution_count": null,
   "id": "528d9916",
   "metadata": {},
   "outputs": [],
   "source": [
    "7. If blank input is entered three times, what does inputStr(limit=3, default='hello') do?"
   ]
  },
  {
   "cell_type": "code",
   "execution_count": null,
   "id": "f151a130",
   "metadata": {},
   "outputs": [],
   "source": [
    "The function returns the value 'hello'."
   ]
  }
 ],
 "metadata": {
  "kernelspec": {
   "display_name": "Python 3 (ipykernel)",
   "language": "python",
   "name": "python3"
  },
  "language_info": {
   "codemirror_mode": {
    "name": "ipython",
    "version": 3
   },
   "file_extension": ".py",
   "mimetype": "text/x-python",
   "name": "python",
   "nbconvert_exporter": "python",
   "pygments_lexer": "ipython3",
   "version": "3.9.12"
  }
 },
 "nbformat": 4,
 "nbformat_minor": 5
}
